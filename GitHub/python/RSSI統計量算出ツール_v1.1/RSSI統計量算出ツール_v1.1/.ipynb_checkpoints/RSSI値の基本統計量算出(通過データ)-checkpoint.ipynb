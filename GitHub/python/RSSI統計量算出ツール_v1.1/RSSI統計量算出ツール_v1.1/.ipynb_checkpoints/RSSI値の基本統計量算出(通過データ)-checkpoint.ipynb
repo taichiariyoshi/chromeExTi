{
 "cells": [
  {
   "cell_type": "markdown",
   "metadata": {},
   "source": [
    "# 通過データのRSSI値分析\n",
    "通過データをフォルダ単位で実施し、CSV,EPC毎にRSSI値の基本統計量を算出する。\n",
    "- 実施日：2018/02/08 15:45  \n",
    "- 使用データ：[20180124_ant_naname_24dBm](http://13.113.187.194:1337/csv/lists?dir=20180124_ant_naname_24dBm)\n",
    "\n",
    "----"
   ]
  },
  {
   "cell_type": "markdown",
   "metadata": {},
   "source": [
    "### ライブラリ/設定をロード"
   ]
  },
  {
   "cell_type": "code",
   "execution_count": 1,
   "metadata": {
    "collapsed": true
   },
   "outputs": [],
   "source": [
    "import numpy as np\n",
    "import pandas as pd\n",
    "import matplotlib.pyplot as plt\n",
    "from ipywidgets import interact, IntSlider\n",
    "import math\n",
    "import json\n",
    "import os.path\n",
    "import urllib.parse\n",
    "import urllib.request\n",
    "from IPython.core.display import display\n",
    "import re\n",
    "\n",
    "import LibImporter\n",
    "import lib.TestCsv as TestCsv\n",
    "import lib.judge_logic_20180208 as judge_logic\n",
    "\n",
    "%matplotlib inline\n",
    "pd.options.display.max_rows=5 # 最大表示数"
   ]
  },
  {
   "cell_type": "markdown",
   "metadata": {},
   "source": [
    "### 通過データのダウンロード及び整形"
   ]
  },
  {
   "cell_type": "code",
   "execution_count": 2,
   "metadata": {
    "scrolled": true
   },
   "outputs": [
    {
     "data": {
      "text/html": [
       "<div>\n",
       "<style>\n",
       "    .dataframe thead tr:only-child th {\n",
       "        text-align: right;\n",
       "    }\n",
       "\n",
       "    .dataframe thead th {\n",
       "        text-align: left;\n",
       "    }\n",
       "\n",
       "    .dataframe tbody tr th {\n",
       "        vertical-align: top;\n",
       "    }\n",
       "</style>\n",
       "<table border=\"1\" class=\"dataframe\">\n",
       "  <thead>\n",
       "    <tr style=\"text-align: right;\">\n",
       "      <th></th>\n",
       "      <th>csv</th>\n",
       "      <th>epc</th>\n",
       "      <th>expected</th>\n",
       "      <th>sec</th>\n",
       "      <th>sec_bin</th>\n",
       "      <th>rssi</th>\n",
       "      <th>port</th>\n",
       "      <th>product_name</th>\n",
       "      <th>main_epc</th>\n",
       "      <th>x</th>\n",
       "      <th>posi_rssi</th>\n",
       "    </tr>\n",
       "  </thead>\n",
       "  <tbody>\n",
       "    <tr>\n",
       "      <th>0</th>\n",
       "      <td>20180223154609393-10-6.02100-02076-02102-02075...</td>\n",
       "      <td>0x107010145263633097661862</td>\n",
       "      <td>False</td>\n",
       "      <td>-2.958140</td>\n",
       "      <td>-3.0</td>\n",
       "      <td>-62.5</td>\n",
       "      <td>4</td>\n",
       "      <td>G1-1 (1862) 福島のセミドライりんご</td>\n",
       "      <td>True</td>\n",
       "      <td>-0.646447</td>\n",
       "      <td>7.5</td>\n",
       "    </tr>\n",
       "    <tr>\n",
       "      <th>1</th>\n",
       "      <td>20180223154609393-10-6.02100-02076-02102-02075...</td>\n",
       "      <td>0x107010145263633097661862</td>\n",
       "      <td>False</td>\n",
       "      <td>-2.428100</td>\n",
       "      <td>-2.5</td>\n",
       "      <td>-68.5</td>\n",
       "      <td>1</td>\n",
       "      <td>G1-1 (1862) 福島のセミドライりんご</td>\n",
       "      <td>True</td>\n",
       "      <td>-0.530616</td>\n",
       "      <td>1.5</td>\n",
       "    </tr>\n",
       "    <tr>\n",
       "      <th>...</th>\n",
       "      <td>...</td>\n",
       "      <td>...</td>\n",
       "      <td>...</td>\n",
       "      <td>...</td>\n",
       "      <td>...</td>\n",
       "      <td>...</td>\n",
       "      <td>...</td>\n",
       "      <td>...</td>\n",
       "      <td>...</td>\n",
       "      <td>...</td>\n",
       "      <td>...</td>\n",
       "    </tr>\n",
       "    <tr>\n",
       "      <th>32957</th>\n",
       "      <td>20180223155614771-10-6.02100-02076-02102-02075...</td>\n",
       "      <td>0x000000000000000000004004</td>\n",
       "      <td>False</td>\n",
       "      <td>2.098717</td>\n",
       "      <td>2.0</td>\n",
       "      <td>-59.5</td>\n",
       "      <td>100</td>\n",
       "      <td>000000000000000000004004</td>\n",
       "      <td>True</td>\n",
       "      <td>0.455056</td>\n",
       "      <td>10.5</td>\n",
       "    </tr>\n",
       "    <tr>\n",
       "      <th>32958</th>\n",
       "      <td>20180223155614771-10-6.02100-02076-02102-02075...</td>\n",
       "      <td>0x000000000000000000004004</td>\n",
       "      <td>False</td>\n",
       "      <td>2.668192</td>\n",
       "      <td>2.5</td>\n",
       "      <td>-59.0</td>\n",
       "      <td>100</td>\n",
       "      <td>000000000000000000004004</td>\n",
       "      <td>True</td>\n",
       "      <td>0.578533</td>\n",
       "      <td>11.0</td>\n",
       "    </tr>\n",
       "  </tbody>\n",
       "</table>\n",
       "<p>32959 rows × 11 columns</p>\n",
       "</div>"
      ],
      "text/plain": [
       "                                                     csv  \\\n",
       "0      20180223154609393-10-6.02100-02076-02102-02075...   \n",
       "1      20180223154609393-10-6.02100-02076-02102-02075...   \n",
       "...                                                  ...   \n",
       "32957  20180223155614771-10-6.02100-02076-02102-02075...   \n",
       "32958  20180223155614771-10-6.02100-02076-02102-02075...   \n",
       "\n",
       "                              epc  expected       sec  sec_bin  rssi  port  \\\n",
       "0      0x107010145263633097661862     False -2.958140     -3.0 -62.5     4   \n",
       "1      0x107010145263633097661862     False -2.428100     -2.5 -68.5     1   \n",
       "...                           ...       ...       ...      ...   ...   ...   \n",
       "32957  0x000000000000000000004004     False  2.098717      2.0 -59.5   100   \n",
       "32958  0x000000000000000000004004     False  2.668192      2.5 -59.0   100   \n",
       "\n",
       "                   product_name  main_epc         x  posi_rssi  \n",
       "0       G1-1 (1862) 福島のセミドライりんご      True -0.646447        7.5  \n",
       "1       G1-1 (1862) 福島のセミドライりんご      True -0.530616        1.5  \n",
       "...                         ...       ...       ...        ...  \n",
       "32957  000000000000000000004004      True  0.455056       10.5  \n",
       "32958  000000000000000000004004      True  0.578533       11.0  \n",
       "\n",
       "[32959 rows x 11 columns]"
      ]
     },
     "execution_count": 2,
     "metadata": {},
     "output_type": "execute_result"
    }
   ],
   "source": [
    "directory = '20180223_10-6_IitokodoriTag_all29dBm_StickInPaperBag_Big_NoSheetInLane_non_refrigerant' # 検証対象のフォルダ名を指定\n",
    "csvs = TestCsv.download_dir(directory) # 指定したフォルダーをダウンロードして整形\n",
    "csvs # 結果の確認"
   ]
  },
  {
   "cell_type": "markdown",
   "metadata": {},
   "source": [
    "### 統計量の算出  \n",
    "そこそこ時間掛かるので注意！  \n",
    "特定のEPCについてだけ実施したい場合は、そのEPCを事前に指定すること。"
   ]
  },
  {
   "cell_type": "markdown",
   "metadata": {},
   "source": [
    "---\n",
    "下記の何れかを設定すれば、そのEPC(またはEPCとCSV)に限定して動作する為、高速。\n",
    "- **target_epcs** : 基本統計量を求めたいEPCを指定したい場合  \n",
    "例)\n",
    "```\n",
    "target_epcs = ['0x000000000000000000004001', '0x000000000000000000004002']\n",
    "```\n",
    "- target_csv_epcs : 基本統計量を求めたいEPCをCSV単位で指定したい場合  \n",
    "例)\n",
    "```\n",
    "target_csv_epcs = {\n",
    "    '20180124111756656-1-1.10965_3331-4198-4501.csv': ['0x000000000000000000004001', '0x000000000000000000004002'],\n",
    "    '20180124111756656-1-1.10965_3331.csv': ['0x000000000000000000004003', '0x000000000000000000004004']\n",
    "}\n",
    "```"
   ]
  },
  {
   "cell_type": "code",
   "execution_count": 3,
   "metadata": {
    "collapsed": true
   },
   "outputs": [],
   "source": [
    "# target_epcs = ['epc値1', 'epc値2']\n",
    "#10-6のEPC\n",
    "target_epcs = ['0x0000000000000000007471','0x0000000000000000007472','0x0000000000000000007473','0x0000000000000000007474','0x0000000000000000007475','0x0000000000000000002036','0x0000000000000000002037','0x0000000000000000002040','0x0000000000000000002100','0x0000000000000000002105'\n",
    "] # RSSIの統計量を算出したいEPCを指定する\n",
    "\n",
    "# target_csv_epcs = {\n",
    "#     'csv名1': ['epc値1', 'epc値2'],\n",
    "#     'csv名2': ['epc値1', 'epc値2']\n",
    "# }\n",
    "target_csv_epcs = {}"
   ]
  },
  {
   "cell_type": "code",
   "execution_count": 4,
   "metadata": {
    "scrolled": true
   },
   "outputs": [
    {
     "data": {
      "text/html": [
       "<div>\n",
       "<style>\n",
       "    .dataframe thead tr:only-child th {\n",
       "        text-align: right;\n",
       "    }\n",
       "\n",
       "    .dataframe thead th {\n",
       "        text-align: left;\n",
       "    }\n",
       "\n",
       "    .dataframe tbody tr th {\n",
       "        vertical-align: top;\n",
       "    }\n",
       "</style>\n",
       "<table border=\"1\" class=\"dataframe\">\n",
       "  <thead>\n",
       "    <tr style=\"text-align: right;\">\n",
       "      <th></th>\n",
       "      <th></th>\n",
       "      <th>type</th>\n",
       "      <th>rssi</th>\n",
       "    </tr>\n",
       "    <tr>\n",
       "      <th>csv</th>\n",
       "      <th>epc</th>\n",
       "      <th></th>\n",
       "      <th></th>\n",
       "    </tr>\n",
       "  </thead>\n",
       "  <tbody>\n",
       "    <tr>\n",
       "      <th rowspan=\"2\" valign=\"top\">20180223154609393-10-6.02100-02076-02102-02075-02105-02095-11894-02037-02098-07471_3395-4305-4497.csv</th>\n",
       "      <th>0x000000000000000000002032</th>\n",
       "      <td>count</td>\n",
       "      <td>8.0000</td>\n",
       "    </tr>\n",
       "    <tr>\n",
       "      <th>0x000000000000000000002032</th>\n",
       "      <td>mean</td>\n",
       "      <td>-53.4375</td>\n",
       "    </tr>\n",
       "    <tr>\n",
       "      <th>...</th>\n",
       "      <th>...</th>\n",
       "      <td>...</td>\n",
       "      <td>...</td>\n",
       "    </tr>\n",
       "    <tr>\n",
       "      <th rowspan=\"2\" valign=\"top\">20180223155614771-10-6.02100-02076-02102-02075-02105-02095-11894-02037-02098-07471_3432-4164-4335.csv</th>\n",
       "      <th>0x110010349835865097604941</th>\n",
       "      <td>75%</td>\n",
       "      <td>-58.0000</td>\n",
       "    </tr>\n",
       "    <tr>\n",
       "      <th>0x110010349835865097604941</th>\n",
       "      <td>max</td>\n",
       "      <td>-56.0000</td>\n",
       "    </tr>\n",
       "  </tbody>\n",
       "</table>\n",
       "<p>43624 rows × 2 columns</p>\n",
       "</div>"
      ],
      "text/plain": [
       "                                                                                type  \\\n",
       "csv                                                epc                                 \n",
       "20180223154609393-10-6.02100-02076-02102-02075-... 0x000000000000000000002032  count   \n",
       "                                                   0x000000000000000000002032   mean   \n",
       "...                                                                              ...   \n",
       "20180223155614771-10-6.02100-02076-02102-02075-... 0x110010349835865097604941    75%   \n",
       "                                                   0x110010349835865097604941    max   \n",
       "\n",
       "                                                                                  rssi  \n",
       "csv                                                epc                                  \n",
       "20180223154609393-10-6.02100-02076-02102-02075-... 0x000000000000000000002032   8.0000  \n",
       "                                                   0x000000000000000000002032 -53.4375  \n",
       "...                                                                                ...  \n",
       "20180223155614771-10-6.02100-02076-02102-02075-... 0x110010349835865097604941 -58.0000  \n",
       "                                                   0x110010349835865097604941 -56.0000  \n",
       "\n",
       "[43624 rows x 2 columns]"
      ]
     },
     "execution_count": 4,
     "metadata": {},
     "output_type": "execute_result"
    }
   ],
   "source": [
    "result = pd.DataFrame() # 空のデータフレームを作る\n",
    "for name, csv in csvs.groupby(['csv', 'epc']): # CSV, EPC毎にグルーピングして、1グループずつループ\n",
    "    temp = None\n",
    "    if len(target_epcs) == 0 and len(target_csv_epcs) == 0:\n",
    "        temp = csv[['rssi']].describe() # RSSIの統計量を算出(全て)\n",
    "    elif len(target_epcs) > 0 and len(target_csv_epcs) == 0:\n",
    "        temp = csv.query('epc in @target_epcs')[['rssi']].describe() # RSSIの統計量を算出(EPC指定)\n",
    "    else:\n",
    "        taret_epcs = target_csv_epcs[name[0]]\n",
    "        temp = csv.query('epc in @taret_epcs')[['rssi']].describe() # RSSIの統計量を算出(CSV単位でEPC指定)\n",
    "    temp = csv[['rssi']].describe() # RSSIの統計量を算出\n",
    "    temp['csv'], temp['epc'] = name[0], name[1] # CSVとEPCのカラムを追加\n",
    "    temp = temp.reset_index().set_index(['csv', 'epc']) # IndexをCSV, EPCに変更\n",
    "    temp = temp.rename(columns={'index':'type'}) # 統計量のカラム名を\"type\"に修正\n",
    "    result = result.append(temp) # 最終結果用のデータフレームに付加する\n",
    "result # 結果の確認"
   ]
  },
  {
   "cell_type": "markdown",
   "metadata": {},
   "source": [
    "### CSVファイルとして吐き出す"
   ]
  },
  {
   "cell_type": "code",
   "execution_count": 5,
   "metadata": {
    "collapsed": true
   },
   "outputs": [],
   "source": [
    "# Excelで読み易い様にShift-Jisにしてる\n",
    "result.to_csv(path_or_buf=f\"./通過データ_{directory}_shiftjis.csv\", encoding='shift-jis') # このファイルと同じディレクトリに出力"
   ]
  }
 ],
 "metadata": {
  "kernelspec": {
   "display_name": "Python 3",
   "language": "python",
   "name": "python3"
  },
  "language_info": {
   "codemirror_mode": {
    "name": "ipython",
    "version": 3
   },
   "file_extension": ".py",
   "mimetype": "text/x-python",
   "name": "python",
   "nbconvert_exporter": "python",
   "pygments_lexer": "ipython3",
   "version": "3.6.3"
  }
 },
 "nbformat": 4,
 "nbformat_minor": 2
}
