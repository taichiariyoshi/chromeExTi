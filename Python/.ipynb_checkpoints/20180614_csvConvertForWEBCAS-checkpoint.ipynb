{
 "cells": [
  {
   "cell_type": "code",
   "execution_count": 1,
   "metadata": {},
   "outputs": [],
   "source": [
    "import numpy as np\n",
    "import pandas as pd\n",
    "import math\n",
    "import json\n",
    "import os.path\n",
    "import urllib.parse\n",
    "import urllib.request\n",
    "from IPython.core.display import display\n",
    "import re"
   ]
  },
  {
   "cell_type": "code",
   "execution_count": 2,
   "metadata": {},
   "outputs": [
    {
     "ename": "SyntaxError",
     "evalue": "Missing parentheses in call to 'print'. Did you mean print(df       # show all column)? (<ipython-input-2-888fa6613444>, line 3)",
     "output_type": "error",
     "traceback": [
      "\u001b[1;36m  File \u001b[1;32m\"<ipython-input-2-888fa6613444>\"\u001b[1;36m, line \u001b[1;32m3\u001b[0m\n\u001b[1;33m    print df       # show all column\u001b[0m\n\u001b[1;37m           ^\u001b[0m\n\u001b[1;31mSyntaxError\u001b[0m\u001b[1;31m:\u001b[0m Missing parentheses in call to 'print'. Did you mean print(df       # show all column)?\n"
     ]
    }
   ],
   "source": [
    "df = pd.read_csv('kaiincsv_touroku_Mod20180613.csv')\n",
    "\n",
    "print df       # show all column\n",
    "print df('A')\n",
    "\n"
   ]
  },
  {
   "cell_type": "code",
   "execution_count": null,
   "metadata": {},
   "outputs": [],
   "source": []
  },
  {
   "cell_type": "code",
   "execution_count": null,
   "metadata": {},
   "outputs": [],
   "source": [
    "# result = pd.DataFrame() # 空のデータフレームを作る\n",
    "#     temp['csv'], temp['epc'] = name[0], name[1] # CSVとEPCのカラムを追加\n",
    "#     temp = temp.reset_index().set_index(['csv', 'epc']) # IndexをCSV, EPCに変更\n",
    "#         temp = temp.rename(columns={'index':'type'}) # 統計量のカラム名を\"type\"に修正\n",
    "#     result = result.append(temp) # 最終結果用のデータフレームに付加する\n",
    "# result # 結果の確認"
   ]
  },
  {
   "cell_type": "code",
   "execution_count": null,
   "metadata": {},
   "outputs": [],
   "source": [
    "# Excelで読み易い様にShift-Jisにしてる\n",
    "# result.to_csv(path_or_buf=f\"./通過データ_{directory}_shiftjis.csv\", encoding='shift-jis') # このファイルと同じディレクトリに出力"
   ]
  }
 ],
 "metadata": {
  "kernelspec": {
   "display_name": "Python 3",
   "language": "python",
   "name": "python3"
  },
  "language_info": {
   "codemirror_mode": {
    "name": "ipython",
    "version": 3
   },
   "file_extension": ".py",
   "mimetype": "text/x-python",
   "name": "python",
   "nbconvert_exporter": "python",
   "pygments_lexer": "ipython3",
   "version": "3.6.5"
  }
 },
 "nbformat": 4,
 "nbformat_minor": 2
}
