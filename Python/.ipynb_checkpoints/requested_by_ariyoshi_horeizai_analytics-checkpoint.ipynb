{
 "cells": [
  {
   "cell_type": "markdown",
   "metadata": {},
   "source": [
    "## 要望\n",
    "1. Nodeのupload/ariyoshi配下にあるcsvファイルを全て読取り、CSV及びEPC毎のRSSIの基本統計量を出す。  \n",
    "2. 各CSVで、RSSIの統計量を知りたいEPCのルールは、下記で決まる。  \n",
    "**0x000000000000000000006 + ファイル名の最初の数値(1桁のものは、0始まりの2桁にする) + 1**  \n",
    "e.g.)0x000000000000000000006 + TH_10_ALNの数値 + 1 => 0x000000000000000000006101\n",
    "っていうEPCのRSSIが欲しい \n",
    "\n",
    "---"
   ]
  },
  {
   "cell_type": "code",
   "execution_count": 1,
   "metadata": {
    "collapsed": true
   },
   "outputs": [],
   "source": [
    "# 全体で使用するライブラリの読み込み と 設定\n",
    "import pandas as pd # Pandas(https://pandas.pydata.org)をpdとして使用出来る用に\n",
    "pd.options.display.max_rows=3 # DataFrameの最大表示数(rows)"
   ]
  },
  {
   "cell_type": "markdown",
   "metadata": {},
   "source": [
    "### ダウンロードしたファイル一覧の取り込み\n",
    "サーバからファイルを得る為のAPI(Node側)に不具合があり、uploads配下を正常に取得出来ない為、手動で任意のディレクトリにDownload済みであることとする。  \n",
    "ここでは、**カレントディレクトリ/download/ariyoshi**にダウンロードした想定で進める。"
   ]
  },
  {
   "cell_type": "code",
   "execution_count": 2,
   "metadata": {
    "scrolled": true
   },
   "outputs": [
    {
     "data": {
      "text/plain": [
       "18"
      ]
     },
     "execution_count": 2,
     "metadata": {},
     "output_type": "execute_result"
    }
   ],
   "source": [
    "filepaths = [] # フルパスでファイル一覧を格納するリスト\n",
    "\n",
    "import os\n",
    "import glob\n",
    "source_dir = '.\\\\download\\\\ariyoshi' # Downloadしたディレクトリ\n",
    "for dir in os.listdir(source_dir): # source_dir配下のディレクトリ一覧を順次取得してforループを回す(http://docs.python.jp/3.5/library/os.html#os.listdir)\n",
    "    filepaths.extend(glob.glob(source_dir + '\\\\' + dir + '\\\\*.csv'))\n",
    "len(filepaths) # 確認の為、ファイル数を表示"
   ]
  },
  {
   "cell_type": "markdown",
   "metadata": {},
   "source": [
    "### CSVファイルの取り込み\n",
    "CSVのファイルを全て読み込み、DataFrameオブジェクトに変換してリストとして保持する。"
   ]
  },
  {
   "cell_type": "code",
   "execution_count": 3,
   "metadata": {},
   "outputs": [
    {
     "ename": "IndentationError",
     "evalue": "unexpected indent (<ipython-input-3-c48ef917d8ae>, line 3)",
     "output_type": "error",
     "traceback": [
      "\u001b[1;36m  File \u001b[1;32m\"<ipython-input-3-c48ef917d8ae>\"\u001b[1;36m, line \u001b[1;32m3\u001b[0m\n\u001b[1;33m    \"\"\"\u001b[0m\n\u001b[1;37m    ^\u001b[0m\n\u001b[1;31mIndentationError\u001b[0m\u001b[1;31m:\u001b[0m unexpected indent\n"
     ]
    }
   ],
   "source": [
    "import re # 正規表現用のライブラリ(https://docs.python.jp/3/library/re.html)\n",
    "#def get_target_epc(filename):\n",
    "    \"\"\"\n",
    "    ファイル名より、RSSIの基本統計量を求めたいEPCを特定し、返却する.\n",
    "    Args:\n",
    "        filename: CSVファイル名. TH_数値_で始まる文字列を想定している.\n",
    "    Returns:\n",
    "        当該CSVファイルにおいて、RSSIの基本統計量を求めたいEPC.\n",
    "    \"\"\"\n",
    "    #target_epc = re.search(r'TH_[0-9]*', filename).group()[3:]\n",
    "    #if len(target_epc) == 1:\n",
    "        #target_epc = \"0\" + target_epc\n",
    "    #return '0x000000000000000000006' + target_epc + '1'\n",
    "\n",
    "csvs = [] # CSVファイルを取り込み、DataFrameオブジェクトとして格納するリスト\n",
    "for filepath in filepaths: # CSVファイル一覧から、ファイルを1つずつ取り出し、変数filepathに入れて、forループを実行\n",
    "    # https://pandas.pydata.org/pandas-docs/stable/generated/pandas.read_csv.html\n",
    "    df = pd.read_csv(filepath, skiprows=5, names=('epc', 'time', 'runnum', 'rssi', 'reader', 'channel', 'power', 'antenna'), encoding ='shift-jis')\n",
    "    \n",
    "    # https://docs.python.jp/3/library/stdtypes.html#str.rsplit\n",
    "    file_name = filepath.split('\\\\')[-1] # ファイルのフルパスを「\\\\」で分けたリストの最後の要素を取り出す\n",
    "    df['csv'] =file_name # csvカラムを追加し、ファイル名を値として設定\n",
    "    #df['target_epc'] = get_target_epc(file_name) # target_epcカラムを追加し、基本統計量を求めたいEPCを値として設定\n",
    "    df['target_epc'] = '0x000000000000000000004005'\n",
    "    df['target_epc'] = '0x000000000000000000004006'\n",
    "    csvs.append(df)\n",
    "len(csvs) # 確認の為、オブジェクト化したCSV数を表示"
   ]
  },
  {
   "cell_type": "code",
   "execution_count": null,
   "metadata": {},
   "outputs": [],
   "source": [
    "# 確認の為、ファイルの中身を1ファイルだけ表示\n",
    "csvs[0]"
   ]
  },
  {
   "cell_type": "code",
   "execution_count": null,
   "metadata": {
    "scrolled": true
   },
   "outputs": [],
   "source": [
    "# CSVファイルのDataFrameを、1ファイルにマージ\n",
    "merged = pd.concat(csvs)\n",
    "merged # 確認の為、中身と件数を表示"
   ]
  },
  {
   "cell_type": "code",
   "execution_count": null,
   "metadata": {},
   "outputs": [],
   "source": [
    "# 念の為ファイル数チェック(これがmergedのrow数と一致するはず)\n",
    "count = 0\n",
    "for csv in csvs:\n",
    "    count += len(csv.index)\n",
    "count"
   ]
  },
  {
   "cell_type": "code",
   "execution_count": null,
   "metadata": {
    "scrolled": true
   },
   "outputs": [],
   "source": [
    "# 基本統計量の算出\n",
    "# 基本統計量を算出したいEPCのみに絞り込んだ後、csvとepcでグルーピングし、RSSIの基本統計量を求めている\n",
    "# https://pandas.pydata.org/pandas-docs/stable/generated/pandas.DataFrame.groupby.html\n",
    "# https://pandas.pydata.org/pandas-docs/stable/generated/pandas.DataFrame.describe.html\n",
    "described = merged[merged.epc == merged.target_epc].groupby(['csv', 'epc']).rssi.describe()\n",
    "described"
   ]
  },
  {
   "cell_type": "code",
   "execution_count": null,
   "metadata": {
    "collapsed": true
   },
   "outputs": [],
   "source": [
    "output_file = \".\\\\output\\\\output.csv\" # 最終結果出力先\n",
    "\n",
    "# 基本統計量のDataFrameをCSVのファイルとして出力\n",
    "# http://pandas.pydata.org/pandas-docs/version/0.20.2/generated/pandas.DataFrame.to_csv.html\n",
    "described.to_csv(path_or_buf=output_file, encoding='utf-8')"
   ]
  },
  {
   "cell_type": "code",
   "execution_count": null,
   "metadata": {
    "collapsed": true
   },
   "outputs": [],
   "source": []
  }
 ],
 "metadata": {
  "kernelspec": {
   "display_name": "Python 3",
   "language": "python",
   "name": "python3"
  },
  "language_info": {
   "codemirror_mode": {
    "name": "ipython",
    "version": 3
   },
   "file_extension": ".py",
   "mimetype": "text/x-python",
   "name": "python",
   "nbconvert_exporter": "python",
   "pygments_lexer": "ipython3",
   "version": "3.6.3"
  }
 },
 "nbformat": 4,
 "nbformat_minor": 2
}
