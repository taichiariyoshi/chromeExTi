{
 "cells": [
  {
   "cell_type": "markdown",
   "metadata": {},
   "source": [
    "# 通過データのRSSI値分析\n",
    "通過データをフォルダ単位で実施し、CSV,EPC毎にRSSI値の基本統計量を算出する。\n",
    "- 実施日：2018/02/08 15:45  \n",
    "- 使用データ：[20180124_ant_naname_24dBm](http://http://13.113.187.194:1337/csv/lists?dir=20180208_archTag_5sozai)\n",
    "\n",
    "----"
   ]
  },
  {
   "cell_type": "markdown",
   "metadata": {},
   "source": [
    "### ライブラリ/設定をロード"
   ]
  },
  {
   "cell_type": "code",
   "execution_count": 1,
   "metadata": {
    "collapsed": true
   },
   "outputs": [],
   "source": [
    "import numpy as np\n",
    "import pandas as pd\n",
    "import matplotlib.pyplot as plt\n",
    "from ipywidgets import interact, IntSlider\n",
    "import math\n",
    "import json\n",
    "import os.path\n",
    "import urllib.parse\n",
    "import urllib.request\n",
    "from IPython.core.display import display\n",
    "import re\n",
    "\n",
    "import LibImporter\n",
    "import lib.TestCsv as TestCsv\n",
    "import lib.judge_logic_20180208 as judge_logic\n",
    "\n",
    "%matplotlib inline\n",
    "pd.options.display.max_rows=5 # 最大表示数"
   ]
  },
  {
   "cell_type": "markdown",
   "metadata": {},
   "source": [
    "### 通過データのダウンロード及び整形"
   ]
  },
  {
   "cell_type": "code",
   "execution_count": 2,
   "metadata": {},
   "outputs": [
    {
     "ename": "FileNotFoundError",
     "evalue": "[Errno 2] No such file or directory: 'C:\\\\Users\\\\taichi.ariyoshi\\\\pythoncsv/download/cache/20180208_archTag_5sozai.csv'",
     "output_type": "error",
     "traceback": [
      "\u001b[1;31m---------------------------------------------------------------------------\u001b[0m",
      "\u001b[1;31mFileNotFoundError\u001b[0m                         Traceback (most recent call last)",
      "\u001b[1;32m<ipython-input-2-e58b671e880e>\u001b[0m in \u001b[0;36m<module>\u001b[1;34m()\u001b[0m\n\u001b[0;32m      1\u001b[0m \u001b[0mdirectory\u001b[0m \u001b[1;33m=\u001b[0m \u001b[1;34m'20180208_archTag_5sozai'\u001b[0m \u001b[1;31m# 検証対象のフォルダ名を指定\u001b[0m\u001b[1;33m\u001b[0m\u001b[0m\n\u001b[1;32m----> 2\u001b[1;33m \u001b[0mcsvs\u001b[0m \u001b[1;33m=\u001b[0m \u001b[0mTestCsv\u001b[0m\u001b[1;33m.\u001b[0m\u001b[0mdownload_dir\u001b[0m\u001b[1;33m(\u001b[0m\u001b[0mdirectory\u001b[0m\u001b[1;33m)\u001b[0m \u001b[1;31m# 指定したフォルダーをダウンロードして整形\u001b[0m\u001b[1;33m\u001b[0m\u001b[0m\n\u001b[0m\u001b[0;32m      3\u001b[0m \u001b[0mcsvs\u001b[0m \u001b[1;31m# 結果の確認\u001b[0m\u001b[1;33m\u001b[0m\u001b[0m\n",
      "\u001b[1;32m~\\pythoncsv\\RSSI統計量算出ツール\\lib\\TestCsv.py\u001b[0m in \u001b[0;36mdownload_dir\u001b[1;34m(directory)\u001b[0m\n\u001b[0;32m    117\u001b[0m     log = pd.DataFrame(data,\n\u001b[0;32m    118\u001b[0m                        columns='csv,epc,expected,sec,sec_bin,rssi,port,product_name,main_epc,x,posi_rssi'.split(','))\n\u001b[1;32m--> 119\u001b[1;33m     \u001b[0mlog\u001b[0m\u001b[1;33m.\u001b[0m\u001b[0mset_index\u001b[0m\u001b[1;33m(\u001b[0m\u001b[1;34m'csv'\u001b[0m\u001b[1;33m)\u001b[0m\u001b[1;33m.\u001b[0m\u001b[0mto_csv\u001b[0m\u001b[1;33m(\u001b[0m\u001b[0mCACHE_PATH\u001b[0m\u001b[1;33m,\u001b[0m \u001b[0mencoding\u001b[0m\u001b[1;33m=\u001b[0m\u001b[1;34m'utf-8'\u001b[0m\u001b[1;33m)\u001b[0m\u001b[1;33m\u001b[0m\u001b[0m\n\u001b[0m\u001b[0;32m    120\u001b[0m     \u001b[1;32mreturn\u001b[0m \u001b[0mlog\u001b[0m\u001b[1;33m\u001b[0m\u001b[0m\n\u001b[0;32m    121\u001b[0m \u001b[1;33m\u001b[0m\u001b[0m\n",
      "\u001b[1;32m~\\AppData\\Local\\Continuum\\anaconda3\\lib\\site-packages\\pandas\\core\\frame.py\u001b[0m in \u001b[0;36mto_csv\u001b[1;34m(self, path_or_buf, sep, na_rep, float_format, columns, header, index, index_label, mode, encoding, compression, quoting, quotechar, line_terminator, chunksize, tupleize_cols, date_format, doublequote, escapechar, decimal)\u001b[0m\n\u001b[0;32m   1401\u001b[0m                                      \u001b[0mdoublequote\u001b[0m\u001b[1;33m=\u001b[0m\u001b[0mdoublequote\u001b[0m\u001b[1;33m,\u001b[0m\u001b[1;33m\u001b[0m\u001b[0m\n\u001b[0;32m   1402\u001b[0m                                      escapechar=escapechar, decimal=decimal)\n\u001b[1;32m-> 1403\u001b[1;33m         \u001b[0mformatter\u001b[0m\u001b[1;33m.\u001b[0m\u001b[0msave\u001b[0m\u001b[1;33m(\u001b[0m\u001b[1;33m)\u001b[0m\u001b[1;33m\u001b[0m\u001b[0m\n\u001b[0m\u001b[0;32m   1404\u001b[0m \u001b[1;33m\u001b[0m\u001b[0m\n\u001b[0;32m   1405\u001b[0m         \u001b[1;32mif\u001b[0m \u001b[0mpath_or_buf\u001b[0m \u001b[1;32mis\u001b[0m \u001b[1;32mNone\u001b[0m\u001b[1;33m:\u001b[0m\u001b[1;33m\u001b[0m\u001b[0m\n",
      "\u001b[1;32m~\\AppData\\Local\\Continuum\\anaconda3\\lib\\site-packages\\pandas\\io\\formats\\format.py\u001b[0m in \u001b[0;36msave\u001b[1;34m(self)\u001b[0m\n\u001b[0;32m   1575\u001b[0m             f, handles = _get_handle(self.path_or_buf, self.mode,\n\u001b[0;32m   1576\u001b[0m                                      \u001b[0mencoding\u001b[0m\u001b[1;33m=\u001b[0m\u001b[0mself\u001b[0m\u001b[1;33m.\u001b[0m\u001b[0mencoding\u001b[0m\u001b[1;33m,\u001b[0m\u001b[1;33m\u001b[0m\u001b[0m\n\u001b[1;32m-> 1577\u001b[1;33m                                      compression=self.compression)\n\u001b[0m\u001b[0;32m   1578\u001b[0m             \u001b[0mclose\u001b[0m \u001b[1;33m=\u001b[0m \u001b[1;32mTrue\u001b[0m\u001b[1;33m\u001b[0m\u001b[0m\n\u001b[0;32m   1579\u001b[0m \u001b[1;33m\u001b[0m\u001b[0m\n",
      "\u001b[1;32m~\\AppData\\Local\\Continuum\\anaconda3\\lib\\site-packages\\pandas\\io\\common.py\u001b[0m in \u001b[0;36m_get_handle\u001b[1;34m(path_or_buf, mode, encoding, compression, memory_map, is_text)\u001b[0m\n\u001b[0;32m    380\u001b[0m         \u001b[1;32melif\u001b[0m \u001b[0mencoding\u001b[0m\u001b[1;33m:\u001b[0m\u001b[1;33m\u001b[0m\u001b[0m\n\u001b[0;32m    381\u001b[0m             \u001b[1;31m# Python 3 and encoding\u001b[0m\u001b[1;33m\u001b[0m\u001b[1;33m\u001b[0m\u001b[0m\n\u001b[1;32m--> 382\u001b[1;33m             \u001b[0mf\u001b[0m \u001b[1;33m=\u001b[0m \u001b[0mopen\u001b[0m\u001b[1;33m(\u001b[0m\u001b[0mpath_or_buf\u001b[0m\u001b[1;33m,\u001b[0m \u001b[0mmode\u001b[0m\u001b[1;33m,\u001b[0m \u001b[0mencoding\u001b[0m\u001b[1;33m=\u001b[0m\u001b[0mencoding\u001b[0m\u001b[1;33m)\u001b[0m\u001b[1;33m\u001b[0m\u001b[0m\n\u001b[0m\u001b[0;32m    383\u001b[0m         \u001b[1;32melif\u001b[0m \u001b[0mis_text\u001b[0m\u001b[1;33m:\u001b[0m\u001b[1;33m\u001b[0m\u001b[0m\n\u001b[0;32m    384\u001b[0m             \u001b[1;31m# Python 3 and no explicit encoding\u001b[0m\u001b[1;33m\u001b[0m\u001b[1;33m\u001b[0m\u001b[0m\n",
      "\u001b[1;31mFileNotFoundError\u001b[0m: [Errno 2] No such file or directory: 'C:\\\\Users\\\\taichi.ariyoshi\\\\pythoncsv/download/cache/20180208_archTag_5sozai.csv'"
     ]
    }
   ],
   "source": [
    "directory = '20180208_archTag_5sozai' # 検証対象のフォルダ名を指定\n",
    "csvs = TestCsv.download_dir(directory) # 指定したフォルダーをダウンロードして整形\n",
    "csvs # 結果の確認"
   ]
  },
  {
   "cell_type": "markdown",
   "metadata": {},
   "source": [
    "### 統計量の算出  \n",
    "そこそこ時間掛かるので注意！  \n",
    "特定のEPCについてだけ実施したい場合は、そのEPCを事前に指定すること。"
   ]
  },
  {
   "cell_type": "markdown",
   "metadata": {},
   "source": [
    "---\n",
    "下記の何れかを設定すれば、そのEPC(またはEPCとCSV)に限定して動作する為、高速。\n",
    "- **target_epcs** : 基本統計量を求めたいEPCを指定したい場合  \n",
    "例)\n",
    "```\n",
    "target_epcs = ['0x000000000000000000004001', '0x000000000000000000004002']\n",
    "```\n",
    "- target_csv_epcs : 基本統計量を求めたいEPCをCSV単位で指定したい場合  \n",
    "例)\n",
    "```\n",
    "target_csv_epcs = {\n",
    "    '20180124111756656-1-1.10965_3331-4198-4501.csv': ['0x000000000000000000004001', '0x000000000000000000004002'],\n",
    "    '20180124111756656-1-1.10965_3331.csv': ['0x000000000000000000004003', '0x000000000000000000004004']\n",
    "}\n",
    "```"
   ]
  },
  {
   "cell_type": "code",
   "execution_count": null,
   "metadata": {
    "collapsed": true
   },
   "outputs": [],
   "source": [
    "# target_epcs = ['epc値1', 'epc値2']\n",
    "target_epcs = ['0x000000000000000000007111', '0x000000000000000000007121', '0x000000000000000000007131', '0x000000000000000000007141'\n",
    ", '0x000000000000000000007151'] # RSSIの統計量を算出したいEPCを指定する\n",
    "\n",
    "# target_csv_epcs = {\n",
    "#     'csv名1': ['epc値1', 'epc値2'],\n",
    "#     'csv名2': ['epc値1', 'epc値2']\n",
    "# }\n",
    "target_csv_epcs = {}"
   ]
  },
  {
   "cell_type": "code",
   "execution_count": null,
   "metadata": {
    "collapsed": true
   },
   "outputs": [],
   "source": [
    "result = pd.DataFrame() # 空のデータフレームを作る\n",
    "for name, csv in csvs.groupby(['csv', 'epc']): # CSV, EPC毎にグルーピングして、1グループずつループ\n",
    "    temp = None\n",
    "    if len(target_epcs) == 0 and len(target_csv_epcs) == 0:\n",
    "        temp = csv[['rssi']].describe() # RSSIの統計量を算出(全て)\n",
    "    elif len(target_epcs) > 0 and len(target_csv_epcs) == 0:\n",
    "        temp = csv.query('epc in @target_epcs')[['rssi']].describe() # RSSIの統計量を算出(EPC指定)\n",
    "    else:\n",
    "        taret_epcs = target_csv_epcs[name[0]]\n",
    "        temp = csv.query('epc in @taret_epcs')[['rssi']].describe() # RSSIの統計量を算出(CSV単位でEPC指定)\n",
    "    temp = csv[['rssi']].describe() # RSSIの統計量を算出\n",
    "    temp['csv'], temp['epc'] = name[0], name[1] # CSVとEPCのカラムを追加\n",
    "    temp = temp.reset_index().set_index(['csv', 'epc']) # IndexをCSV, EPCに変更\n",
    "    temp = temp.rename(columns={'index':'type'}) # 統計量のカラム名を\"type\"に修正\n",
    "    result = result.append(temp) # 最終結果用のデータフレームに付加する\n",
    "result # 結果の確認"
   ]
  },
  {
   "cell_type": "markdown",
   "metadata": {},
   "source": [
    "### CSVファイルとして吐き出す"
   ]
  },
  {
   "cell_type": "code",
   "execution_count": null,
   "metadata": {
    "collapsed": true
   },
   "outputs": [],
   "source": [
    "# Excelで読み易い様にShift-Jisにしてる\n",
    "result.to_csv(path_or_buf=f\"./通過データ_{directory}_shiftjis.csv\", encoding='shift-jis') # このファイルと同じディレクトリに出力"
   ]
  }
 ],
 "metadata": {
  "kernelspec": {
   "display_name": "Python 3",
   "language": "python",
   "name": "python3"
  },
  "language_info": {
   "codemirror_mode": {
    "name": "ipython",
    "version": 3
   },
   "file_extension": ".py",
   "mimetype": "text/x-python",
   "name": "python",
   "nbconvert_exporter": "python",
   "pygments_lexer": "ipython3",
   "version": "3.6.3"
  }
 },
 "nbformat": 4,
 "nbformat_minor": 2
}
