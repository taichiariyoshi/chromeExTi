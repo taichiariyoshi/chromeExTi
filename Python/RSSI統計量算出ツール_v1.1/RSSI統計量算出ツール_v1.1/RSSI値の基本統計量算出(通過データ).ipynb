{
 "cells": [
  {
   "cell_type": "markdown",
   "metadata": {},
   "source": [
    "# 通過データのRSSI値分析\n",
    "通過データをフォルダ単位で実施し、CSV,EPC毎にRSSI値の基本統計量を算出する。\n",
    "- 実施日：2018/02/08 15:45  \n",
    "- 使用データ：[20180124_ant_naname_24dBm](http://13.113.187.194:1337/csv/lists?dir=20180124_ant_naname_24dBm)\n",
    "\n",
    "----"
   ]
  },
  {
   "cell_type": "markdown",
   "metadata": {},
   "source": [
    "### ライブラリ/設定をロード"
   ]
  },
  {
   "cell_type": "code",
   "execution_count": 1,
   "metadata": {
    "collapsed": true
   },
   "outputs": [],
   "source": [
    "import numpy as np\n",
    "import pandas as pd\n",
    "import matplotlib.pyplot as plt\n",
    "from ipywidgets import interact, IntSlider\n",
    "import math\n",
    "import json\n",
    "import os.path\n",
    "import urllib.parse\n",
    "import urllib.request\n",
    "from IPython.core.display import display\n",
    "import re\n",
    "\n",
    "import LibImporter\n",
    "import lib.TestCsv as TestCsv\n",
    "import lib.judge_logic_20180208 as judge_logic\n",
    "\n",
    "%matplotlib inline\n",
    "pd.options.display.max_rows=5 # 最大表示数"
   ]
  },
  {
   "cell_type": "markdown",
   "metadata": {},
   "source": [
    "### 通過データのダウンロード及び整形"
   ]
  },
  {
   "cell_type": "code",
   "execution_count": 2,
   "metadata": {
    "scrolled": true
   },
   "outputs": [
    {
     "data": {
      "text/html": [
       "<div>\n",
       "<style>\n",
       "    .dataframe thead tr:only-child th {\n",
       "        text-align: right;\n",
       "    }\n",
       "\n",
       "    .dataframe thead th {\n",
       "        text-align: left;\n",
       "    }\n",
       "\n",
       "    .dataframe tbody tr th {\n",
       "        vertical-align: top;\n",
       "    }\n",
       "</style>\n",
       "<table border=\"1\" class=\"dataframe\">\n",
       "  <thead>\n",
       "    <tr style=\"text-align: right;\">\n",
       "      <th></th>\n",
       "      <th>csv</th>\n",
       "      <th>epc</th>\n",
       "      <th>expected</th>\n",
       "      <th>sec</th>\n",
       "      <th>sec_bin</th>\n",
       "      <th>rssi</th>\n",
       "      <th>port</th>\n",
       "      <th>product_name</th>\n",
       "      <th>main_epc</th>\n",
       "      <th>x</th>\n",
       "      <th>posi_rssi</th>\n",
       "    </tr>\n",
       "  </thead>\n",
       "  <tbody>\n",
       "    <tr>\n",
       "      <th>0</th>\n",
       "      <td>20180125133948418-9784062938204_3095-3264-3435...</td>\n",
       "      <td>0x106010149012011137891807</td>\n",
       "      <td>False</td>\n",
       "      <td>2.718700</td>\n",
       "      <td>2.5</td>\n",
       "      <td>-68.5</td>\n",
       "      <td>3</td>\n",
       "      <td>F1-1 (1807) ブラック無糖HOT</td>\n",
       "      <td>True</td>\n",
       "      <td>0.828115</td>\n",
       "      <td>1.5</td>\n",
       "    </tr>\n",
       "    <tr>\n",
       "      <th>1</th>\n",
       "      <td>20180125133948418-9784062938204_3095-3264-3435...</td>\n",
       "      <td>0x106010149012011137891807</td>\n",
       "      <td>False</td>\n",
       "      <td>2.762590</td>\n",
       "      <td>2.5</td>\n",
       "      <td>-67.5</td>\n",
       "      <td>3</td>\n",
       "      <td>F1-1 (1807) ブラック無糖HOT</td>\n",
       "      <td>True</td>\n",
       "      <td>0.841483</td>\n",
       "      <td>2.5</td>\n",
       "    </tr>\n",
       "    <tr>\n",
       "      <th>...</th>\n",
       "      <td>...</td>\n",
       "      <td>...</td>\n",
       "      <td>...</td>\n",
       "      <td>...</td>\n",
       "      <td>...</td>\n",
       "      <td>...</td>\n",
       "      <td>...</td>\n",
       "      <td>...</td>\n",
       "      <td>...</td>\n",
       "      <td>...</td>\n",
       "      <td>...</td>\n",
       "    </tr>\n",
       "    <tr>\n",
       "      <th>46395</th>\n",
       "      <td>20180125143206280-9784062938204_3654-3961-4132...</td>\n",
       "      <td>0x000000000000000000004004</td>\n",
       "      <td>False</td>\n",
       "      <td>-0.433280</td>\n",
       "      <td>-0.5</td>\n",
       "      <td>-64.5</td>\n",
       "      <td>2</td>\n",
       "      <td>000000000000000000004004</td>\n",
       "      <td>True</td>\n",
       "      <td>-0.105781</td>\n",
       "      <td>5.5</td>\n",
       "    </tr>\n",
       "    <tr>\n",
       "      <th>46396</th>\n",
       "      <td>20180125143206280-9784062938204_3654-3961-4132...</td>\n",
       "      <td>0x000000000000000000004004</td>\n",
       "      <td>False</td>\n",
       "      <td>3.282145</td>\n",
       "      <td>3.0</td>\n",
       "      <td>-64.0</td>\n",
       "      <td>2</td>\n",
       "      <td>000000000000000000004004</td>\n",
       "      <td>True</td>\n",
       "      <td>0.801305</td>\n",
       "      <td>6.0</td>\n",
       "    </tr>\n",
       "  </tbody>\n",
       "</table>\n",
       "<p>46397 rows × 11 columns</p>\n",
       "</div>"
      ],
      "text/plain": [
       "                                                     csv  \\\n",
       "0      20180125133948418-9784062938204_3095-3264-3435...   \n",
       "1      20180125133948418-9784062938204_3095-3264-3435...   \n",
       "...                                                  ...   \n",
       "46395  20180125143206280-9784062938204_3654-3961-4132...   \n",
       "46396  20180125143206280-9784062938204_3654-3961-4132...   \n",
       "\n",
       "                              epc  expected       sec  sec_bin  rssi  port  \\\n",
       "0      0x106010149012011137891807     False  2.718700      2.5 -68.5     3   \n",
       "1      0x106010149012011137891807     False  2.762590      2.5 -67.5     3   \n",
       "...                           ...       ...       ...      ...   ...   ...   \n",
       "46395  0x000000000000000000004004     False -0.433280     -0.5 -64.5     2   \n",
       "46396  0x000000000000000000004004     False  3.282145      3.0 -64.0     2   \n",
       "\n",
       "                   product_name  main_epc         x  posi_rssi  \n",
       "0         F1-1 (1807) ブラック無糖HOT      True  0.828115        1.5  \n",
       "1         F1-1 (1807) ブラック無糖HOT      True  0.841483        2.5  \n",
       "...                         ...       ...       ...        ...  \n",
       "46395  000000000000000000004004      True -0.105781        5.5  \n",
       "46396  000000000000000000004004      True  0.801305        6.0  \n",
       "\n",
       "[46397 rows x 11 columns]"
      ]
     },
     "execution_count": 2,
     "metadata": {},
     "output_type": "execute_result"
    }
   ],
   "source": [
    "directory = 'books_sekisou_urabyousi' # 検証対象のフォルダ名を指定\n",
    "csvs = TestCsv.download_dir(directory) # 指定したフォルダーをダウンロードして整形\n",
    "csvs # 結果の確認"
   ]
  },
  {
   "cell_type": "markdown",
   "metadata": {},
   "source": [
    "### 統計量の算出  \n",
    "そこそこ時間掛かるので注意！  \n",
    "特定のEPCについてだけ実施したい場合は、そのEPCを事前に指定すること。"
   ]
  },
  {
   "cell_type": "markdown",
   "metadata": {},
   "source": [
    "---\n",
    "下記の何れかを設定すれば、そのEPC(またはEPCとCSV)に限定して動作する為、高速。\n",
    "- **target_epcs** : 基本統計量を求めたいEPCを指定したい場合  \n",
    "例)\n",
    "```\n",
    "target_epcs = ['0x000000000000000000004001', '0x000000000000000000004002']\n",
    "```\n",
    "- target_csv_epcs : 基本統計量を求めたいEPCをCSV単位で指定したい場合  \n",
    "例)\n",
    "```\n",
    "target_csv_epcs = {\n",
    "    '20180124111756656-1-1.10965_3331-4198-4501.csv': ['0x000000000000000000004001', '0x000000000000000000004002'],\n",
    "    '20180124111756656-1-1.10965_3331.csv': ['0x000000000000000000004003', '0x000000000000000000004004']\n",
    "}\n",
    "```"
   ]
  },
  {
   "cell_type": "code",
   "execution_count": 3,
   "metadata": {
    "collapsed": true
   },
   "outputs": [],
   "source": [
    "# target_epcs = ['epc値1', 'epc値2']\n",
    "#10-6のEPC\n",
    "target_epcs = ['0x0000000000000000007471','0x0000000000000000007472','0x0000000000000000007473','0x0000000000000000007474','0x0000000000000000007475','0x0000000000000000002036','0x0000000000000000002037','0x0000000000000000002040','0x0000000000000000002100','0x0000000000000000002105'\n",
    "] # RSSIの統計量を算出したいEPCを指定する\n",
    "\n",
    "# target_csv_epcs = {\n",
    "#     'csv名1': ['epc値1', 'epc値2'],\n",
    "#     'csv名2': ['epc値1', 'epc値2']\n",
    "# }\n",
    "target_csv_epcs = {}"
   ]
  },
  {
   "cell_type": "code",
   "execution_count": 4,
   "metadata": {
    "scrolled": true
   },
   "outputs": [
    {
     "data": {
      "text/html": [
       "<div>\n",
       "<style>\n",
       "    .dataframe thead tr:only-child th {\n",
       "        text-align: right;\n",
       "    }\n",
       "\n",
       "    .dataframe thead th {\n",
       "        text-align: left;\n",
       "    }\n",
       "\n",
       "    .dataframe tbody tr th {\n",
       "        vertical-align: top;\n",
       "    }\n",
       "</style>\n",
       "<table border=\"1\" class=\"dataframe\">\n",
       "  <thead>\n",
       "    <tr style=\"text-align: right;\">\n",
       "      <th></th>\n",
       "      <th></th>\n",
       "      <th>type</th>\n",
       "      <th>rssi</th>\n",
       "    </tr>\n",
       "    <tr>\n",
       "      <th>csv</th>\n",
       "      <th>epc</th>\n",
       "      <th></th>\n",
       "      <th></th>\n",
       "    </tr>\n",
       "  </thead>\n",
       "  <tbody>\n",
       "    <tr>\n",
       "      <th rowspan=\"2\" valign=\"top\">20180125133948418-9784062938204_3095-3264-3435.csv</th>\n",
       "      <th>0x000000000000000000002009</th>\n",
       "      <td>count</td>\n",
       "      <td>25.00</td>\n",
       "    </tr>\n",
       "    <tr>\n",
       "      <th>0x000000000000000000002009</th>\n",
       "      <td>mean</td>\n",
       "      <td>-41.74</td>\n",
       "    </tr>\n",
       "    <tr>\n",
       "      <th>...</th>\n",
       "      <th>...</th>\n",
       "      <td>...</td>\n",
       "      <td>...</td>\n",
       "    </tr>\n",
       "    <tr>\n",
       "      <th rowspan=\"2\" valign=\"top\">20180125143206280-9784062938204_3654-3961-4132.csv</th>\n",
       "      <th>0x109010849012010340154277</th>\n",
       "      <td>75%</td>\n",
       "      <td>-56.50</td>\n",
       "    </tr>\n",
       "    <tr>\n",
       "      <th>0x109010849012010340154277</th>\n",
       "      <td>max</td>\n",
       "      <td>-56.00</td>\n",
       "    </tr>\n",
       "  </tbody>\n",
       "</table>\n",
       "<p>31808 rows × 2 columns</p>\n",
       "</div>"
      ],
      "text/plain": [
       "                                                                                type  \\\n",
       "csv                                                epc                                 \n",
       "20180125133948418-9784062938204_3095-3264-3435.csv 0x000000000000000000002009  count   \n",
       "                                                   0x000000000000000000002009   mean   \n",
       "...                                                                              ...   \n",
       "20180125143206280-9784062938204_3654-3961-4132.csv 0x109010849012010340154277    75%   \n",
       "                                                   0x109010849012010340154277    max   \n",
       "\n",
       "                                                                                rssi  \n",
       "csv                                                epc                                \n",
       "20180125133948418-9784062938204_3095-3264-3435.csv 0x000000000000000000002009  25.00  \n",
       "                                                   0x000000000000000000002009 -41.74  \n",
       "...                                                                              ...  \n",
       "20180125143206280-9784062938204_3654-3961-4132.csv 0x109010849012010340154277 -56.50  \n",
       "                                                   0x109010849012010340154277 -56.00  \n",
       "\n",
       "[31808 rows x 2 columns]"
      ]
     },
     "execution_count": 4,
     "metadata": {},
     "output_type": "execute_result"
    }
   ],
   "source": [
    "result = pd.DataFrame() # 空のデータフレームを作る\n",
    "for name, csv in csvs.groupby(['csv', 'epc']): # CSV, EPC毎にグルーピングして、1グループずつループ\n",
    "    temp = None\n",
    "    if len(target_epcs) == 0 and len(target_csv_epcs) == 0:\n",
    "        temp = csv[['rssi']].describe() # RSSIの統計量を算出(全て)\n",
    "    elif len(target_epcs) > 0 and len(target_csv_epcs) == 0:\n",
    "        temp = csv.query('epc in @target_epcs')[['rssi']].describe() # RSSIの統計量を算出(EPC指定)\n",
    "    else:\n",
    "        taret_epcs = target_csv_epcs[name[0]]\n",
    "        temp = csv.query('epc in @taret_epcs')[['rssi']].describe() # RSSIの統計量を算出(CSV単位でEPC指定)\n",
    "    temp = csv[['rssi']].describe() # RSSIの統計量を算出\n",
    "    temp['csv'], temp['epc'] = name[0], name[1] # CSVとEPCのカラムを追加\n",
    "    temp = temp.reset_index().set_index(['csv', 'epc']) # IndexをCSV, EPCに変更\n",
    "    temp = temp.rename(columns={'index':'type'}) # 統計量のカラム名を\"type\"に修正\n",
    "    result = result.append(temp) # 最終結果用のデータフレームに付加する\n",
    "result # 結果の確認"
   ]
  },
  {
   "cell_type": "markdown",
   "metadata": {},
   "source": [
    "### CSVファイルとして吐き出す"
   ]
  },
  {
   "cell_type": "code",
   "execution_count": 5,
   "metadata": {
    "collapsed": true
   },
   "outputs": [],
   "source": [
    "# Excelで読み易い様にShift-Jisにしてる\n",
    "result.to_csv(path_or_buf=f\"./通過データ_{directory}_shiftjis.csv\", encoding='shift-jis') # このファイルと同じディレクトリに出力"
   ]
  }
 ],
 "metadata": {
  "kernelspec": {
   "display_name": "Python 3",
   "language": "python",
   "name": "python3"
  },
  "language_info": {
   "codemirror_mode": {
    "name": "ipython",
    "version": 3
   },
   "file_extension": ".py",
   "mimetype": "text/x-python",
   "name": "python",
   "nbconvert_exporter": "python",
   "pygments_lexer": "ipython3",
   "version": "3.6.5"
  }
 },
 "nbformat": 4,
 "nbformat_minor": 2
}
