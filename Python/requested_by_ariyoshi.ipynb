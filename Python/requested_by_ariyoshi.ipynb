{
 "cells": [
  {
   "cell_type": "markdown",
   "metadata": {},
   "source": [
    "## 要望\n",
    "1. Nodeのupload/ariyoshi配下にあるcsvファイルを全て読取り、CSV及びEPC毎のRSSIの基本統計量を出す。  \n",
    "2. 各CSVで、RSSIの統計量を知りたいEPCのルールは、下記で決まる。  \n",
    "**0x000000000000000000006 + ファイル名の最初の数値(1桁のものは、0始まりの2桁にする) + 1**  \n",
    "e.g.)0x000000000000000000006 + TH_10_ALNの数値 + 1 => 0x000000000000000000006101\n",
    "っていうEPCのRSSIが欲しい \n",
    "\n",
    "---"
   ]
  },
  {
   "cell_type": "code",
   "execution_count": 1,
   "metadata": {
    "collapsed": true
   },
   "outputs": [],
   "source": [
    "# 全体で使用するライブラリの読み込み と 設定\n",
    "import pandas as pd # Pandas(https://pandas.pydata.org)をpdとして使用出来る用に\n",
    "pd.options.display.max_rows=3 # DataFrameの最大表示数(rows)"
   ]
  },
  {
   "cell_type": "markdown",
   "metadata": {},
   "source": [
    "### ダウンロードしたファイル一覧の取り込み\n",
    "サーバからファイルを得る為のAPI(Node側)に不具合があり、uploads配下を正常に取得出来ない為、手動で任意のディレクトリにDownload済みであることとする。  \n",
    "ここでは、**カレントディレクトリ/download/ariyoshi**にダウンロードした想定で進める。"
   ]
  },
  {
   "cell_type": "code",
   "execution_count": 2,
   "metadata": {
    "scrolled": true
   },
   "outputs": [
    {
     "data": {
      "text/plain": [
       "18"
      ]
     },
     "execution_count": 2,
     "metadata": {},
     "output_type": "execute_result"
    }
   ],
   "source": [
    "filepaths = [] # フルパスでファイル一覧を格納するリスト\n",
    "\n",
    "import os\n",
    "import glob\n",
    "source_dir = '.\\\\download\\\\ariyoshi\\\\tagonly' # Downloadしたディレクトリ\n",
    "for dir in os.listdir(source_dir): # source_dir配下のディレクトリ一覧を順次取得してforループを回す(http://docs.python.jp/3.5/library/os.html#os.listdir)\n",
    "    filepaths.extend(glob.glob(source_dir + '\\\\' + dir + '\\\\*.csv'))\n",
    "len(filepaths) # 確認の為、ファイル数を表示"
   ]
  },
  {
   "cell_type": "markdown",
   "metadata": {},
   "source": [
    "### CSVファイルの取り込み\n",
    "CSVのファイルを全て読み込み、DataFrameオブジェクトに変換してリストとして保持する。"
   ]
  },
  {
   "cell_type": "code",
   "execution_count": 3,
   "metadata": {},
   "outputs": [
    {
     "data": {
      "text/plain": [
       "18"
      ]
     },
     "execution_count": 3,
     "metadata": {},
     "output_type": "execute_result"
    }
   ],
   "source": [
    "import re # 正規表現用のライブラリ(https://docs.python.jp/3/library/re.html)\n",
    "def get_target_epc(filename):\n",
    "    \"\"\"\n",
    "    ファイル名より、RSSIの基本統計量を求めたいEPCを特定し、返却する.\n",
    "    Args:\n",
    "        filename: CSVファイル名. TH_数値_で始まる文字列を想定している.\n",
    "    Returns:\n",
    "        当該CSVファイルにおいて、RSSIの基本統計量を求めたいEPC.\n",
    "    \"\"\"\n",
    "    target_epc = re.search(r'TH_[0-9]*', filename).group()[3:]\n",
    "    if len(target_epc) == 1:\n",
    "        target_epc = \"0\" + target_epc\n",
    "    return '0x000000000000000000006' + target_epc + '1'\n",
    "\n",
    "csvs = [] # CSVファイルを取り込み、DataFrameオブジェクトとして格納するリスト\n",
    "for filepath in filepaths: # CSVファイル一覧から、ファイルを1つずつ取り出し、変数filepathに入れて、forループを実行\n",
    "    # https://pandas.pydata.org/pandas-docs/stable/generated/pandas.read_csv.html\n",
    "    df = pd.read_csv(filepath, skiprows=5, names=('epc', 'time', 'runnum', 'rssi', 'reader', 'channel', 'power', 'antenna'), encoding ='shift-jis')\n",
    "    \n",
    "    # https://docs.python.jp/3/library/stdtypes.html#str.rsplit\n",
    "    file_name = filepath.split('\\\\')[-1] # ファイルのフルパスを「\\\\」で分けたリストの最後の要素を取り出す\n",
    "    df['csv'] =file_name # csvカラムを追加し、ファイル名を値として設定\n",
    "    df['target_epc'] = get_target_epc(file_name) # target_epcカラムを追加し、基本統計量を求めたいEPCを値として設定\n",
    "    csvs.append(df)\n",
    "len(csvs) # 確認の為、オブジェクト化したCSV数を表示"
   ]
  },
  {
   "cell_type": "code",
   "execution_count": 4,
   "metadata": {},
   "outputs": [
    {
     "data": {
      "text/html": [
       "<div>\n",
       "<style>\n",
       "    .dataframe thead tr:only-child th {\n",
       "        text-align: right;\n",
       "    }\n",
       "\n",
       "    .dataframe thead th {\n",
       "        text-align: left;\n",
       "    }\n",
       "\n",
       "    .dataframe tbody tr th {\n",
       "        vertical-align: top;\n",
       "    }\n",
       "</style>\n",
       "<table border=\"1\" class=\"dataframe\">\n",
       "  <thead>\n",
       "    <tr style=\"text-align: right;\">\n",
       "      <th></th>\n",
       "      <th>epc</th>\n",
       "      <th>time</th>\n",
       "      <th>runnum</th>\n",
       "      <th>rssi</th>\n",
       "      <th>reader</th>\n",
       "      <th>channel</th>\n",
       "      <th>power</th>\n",
       "      <th>antenna</th>\n",
       "      <th>csv</th>\n",
       "      <th>target_epc</th>\n",
       "    </tr>\n",
       "  </thead>\n",
       "  <tbody>\n",
       "    <tr>\n",
       "      <th>0</th>\n",
       "      <td>0x000000000000000000006101</td>\n",
       "      <td>1.516242e+09</td>\n",
       "      <td>0</td>\n",
       "      <td>-24</td>\n",
       "      <td>0</td>\n",
       "      <td>1</td>\n",
       "      <td>24.0</td>\n",
       "      <td>1</td>\n",
       "      <td>TH_10_ALN-9762-FRA.csv</td>\n",
       "      <td>0x000000000000000000006101</td>\n",
       "    </tr>\n",
       "    <tr>\n",
       "      <th>...</th>\n",
       "      <td>...</td>\n",
       "      <td>...</td>\n",
       "      <td>...</td>\n",
       "      <td>...</td>\n",
       "      <td>...</td>\n",
       "      <td>...</td>\n",
       "      <td>...</td>\n",
       "      <td>...</td>\n",
       "      <td>...</td>\n",
       "      <td>...</td>\n",
       "    </tr>\n",
       "    <tr>\n",
       "      <th>418</th>\n",
       "      <td>0x108030249016740038843524</td>\n",
       "      <td>1.516242e+09</td>\n",
       "      <td>0</td>\n",
       "      <td>-33</td>\n",
       "      <td>0</td>\n",
       "      <td>1</td>\n",
       "      <td>24.0</td>\n",
       "      <td>4</td>\n",
       "      <td>TH_10_ALN-9762-FRA.csv</td>\n",
       "      <td>0x000000000000000000006101</td>\n",
       "    </tr>\n",
       "  </tbody>\n",
       "</table>\n",
       "<p>419 rows × 10 columns</p>\n",
       "</div>"
      ],
      "text/plain": [
       "                            epc          time  runnum  rssi  reader  channel  \\\n",
       "0    0x000000000000000000006101  1.516242e+09       0   -24       0        1   \n",
       "..                          ...           ...     ...   ...     ...      ...   \n",
       "418  0x108030249016740038843524  1.516242e+09       0   -33       0        1   \n",
       "\n",
       "     power  antenna                     csv                  target_epc  \n",
       "0     24.0        1  TH_10_ALN-9762-FRA.csv  0x000000000000000000006101  \n",
       "..     ...      ...                     ...                         ...  \n",
       "418   24.0        4  TH_10_ALN-9762-FRA.csv  0x000000000000000000006101  \n",
       "\n",
       "[419 rows x 10 columns]"
      ]
     },
     "execution_count": 4,
     "metadata": {},
     "output_type": "execute_result"
    }
   ],
   "source": [
    "# 確認の為、ファイルの中身を1ファイルだけ表示\n",
    "csvs[0]"
   ]
  },
  {
   "cell_type": "code",
   "execution_count": 5,
   "metadata": {
    "scrolled": true
   },
   "outputs": [
    {
     "data": {
      "text/html": [
       "<div>\n",
       "<style>\n",
       "    .dataframe thead tr:only-child th {\n",
       "        text-align: right;\n",
       "    }\n",
       "\n",
       "    .dataframe thead th {\n",
       "        text-align: left;\n",
       "    }\n",
       "\n",
       "    .dataframe tbody tr th {\n",
       "        vertical-align: top;\n",
       "    }\n",
       "</style>\n",
       "<table border=\"1\" class=\"dataframe\">\n",
       "  <thead>\n",
       "    <tr style=\"text-align: right;\">\n",
       "      <th></th>\n",
       "      <th>epc</th>\n",
       "      <th>time</th>\n",
       "      <th>runnum</th>\n",
       "      <th>rssi</th>\n",
       "      <th>reader</th>\n",
       "      <th>channel</th>\n",
       "      <th>power</th>\n",
       "      <th>antenna</th>\n",
       "      <th>csv</th>\n",
       "      <th>target_epc</th>\n",
       "    </tr>\n",
       "  </thead>\n",
       "  <tbody>\n",
       "    <tr>\n",
       "      <th>0</th>\n",
       "      <td>0x000000000000000000006101</td>\n",
       "      <td>1.516242e+09</td>\n",
       "      <td>0</td>\n",
       "      <td>-24</td>\n",
       "      <td>0</td>\n",
       "      <td>1</td>\n",
       "      <td>24.0</td>\n",
       "      <td>1</td>\n",
       "      <td>TH_10_ALN-9762-FRA.csv</td>\n",
       "      <td>0x000000000000000000006101</td>\n",
       "    </tr>\n",
       "    <tr>\n",
       "      <th>...</th>\n",
       "      <td>...</td>\n",
       "      <td>...</td>\n",
       "      <td>...</td>\n",
       "      <td>...</td>\n",
       "      <td>...</td>\n",
       "      <td>...</td>\n",
       "      <td>...</td>\n",
       "      <td>...</td>\n",
       "      <td>...</td>\n",
       "      <td>...</td>\n",
       "    </tr>\n",
       "    <tr>\n",
       "      <th>435</th>\n",
       "      <td>0x108040249013510116833645</td>\n",
       "      <td>1.516242e+09</td>\n",
       "      <td>0</td>\n",
       "      <td>-32</td>\n",
       "      <td>0</td>\n",
       "      <td>1</td>\n",
       "      <td>24.0</td>\n",
       "      <td>3</td>\n",
       "      <td>TH_9_ZEPHYR-2.csv</td>\n",
       "      <td>0x000000000000000000006091</td>\n",
       "    </tr>\n",
       "  </tbody>\n",
       "</table>\n",
       "<p>7765 rows × 10 columns</p>\n",
       "</div>"
      ],
      "text/plain": [
       "                            epc          time  runnum  rssi  reader  channel  \\\n",
       "0    0x000000000000000000006101  1.516242e+09       0   -24       0        1   \n",
       "..                          ...           ...     ...   ...     ...      ...   \n",
       "435  0x108040249013510116833645  1.516242e+09       0   -32       0        1   \n",
       "\n",
       "     power  antenna                     csv                  target_epc  \n",
       "0     24.0        1  TH_10_ALN-9762-FRA.csv  0x000000000000000000006101  \n",
       "..     ...      ...                     ...                         ...  \n",
       "435   24.0        3       TH_9_ZEPHYR-2.csv  0x000000000000000000006091  \n",
       "\n",
       "[7765 rows x 10 columns]"
      ]
     },
     "execution_count": 5,
     "metadata": {},
     "output_type": "execute_result"
    }
   ],
   "source": [
    "# CSVファイルのDataFrameを、1ファイルにマージ\n",
    "merged = pd.concat(csvs)\n",
    "merged # 確認の為、中身と件数を表示"
   ]
  },
  {
   "cell_type": "code",
   "execution_count": 6,
   "metadata": {},
   "outputs": [
    {
     "data": {
      "text/plain": [
       "7765"
      ]
     },
     "execution_count": 6,
     "metadata": {},
     "output_type": "execute_result"
    }
   ],
   "source": [
    "# 念の為ファイル数チェック(これがmergedのrow数と一致するはず)\n",
    "count = 0\n",
    "for csv in csvs:\n",
    "    count += len(csv.index)\n",
    "count"
   ]
  },
  {
   "cell_type": "code",
   "execution_count": 7,
   "metadata": {},
   "outputs": [
    {
     "data": {
      "text/html": [
       "<div>\n",
       "<style>\n",
       "    .dataframe thead tr:only-child th {\n",
       "        text-align: right;\n",
       "    }\n",
       "\n",
       "    .dataframe thead th {\n",
       "        text-align: left;\n",
       "    }\n",
       "\n",
       "    .dataframe tbody tr th {\n",
       "        vertical-align: top;\n",
       "    }\n",
       "</style>\n",
       "<table border=\"1\" class=\"dataframe\">\n",
       "  <thead>\n",
       "    <tr style=\"text-align: right;\">\n",
       "      <th></th>\n",
       "      <th></th>\n",
       "      <th>count</th>\n",
       "      <th>mean</th>\n",
       "      <th>std</th>\n",
       "      <th>min</th>\n",
       "      <th>25%</th>\n",
       "      <th>50%</th>\n",
       "      <th>75%</th>\n",
       "      <th>max</th>\n",
       "    </tr>\n",
       "    <tr>\n",
       "      <th>csv</th>\n",
       "      <th>epc</th>\n",
       "      <th></th>\n",
       "      <th></th>\n",
       "      <th></th>\n",
       "      <th></th>\n",
       "      <th></th>\n",
       "      <th></th>\n",
       "      <th></th>\n",
       "      <th></th>\n",
       "    </tr>\n",
       "  </thead>\n",
       "  <tbody>\n",
       "    <tr>\n",
       "      <th>TH_10_ALN-9762-FRA.csv</th>\n",
       "      <th>0x000000000000000000006101</th>\n",
       "      <td>157.0</td>\n",
       "      <td>-23.203822</td>\n",
       "      <td>2.807359</td>\n",
       "      <td>-29.0</td>\n",
       "      <td>-24.0</td>\n",
       "      <td>-23.0</td>\n",
       "      <td>-21.0</td>\n",
       "      <td>-20.0</td>\n",
       "    </tr>\n",
       "    <tr>\n",
       "      <th>...</th>\n",
       "      <th>...</th>\n",
       "      <td>...</td>\n",
       "      <td>...</td>\n",
       "      <td>...</td>\n",
       "      <td>...</td>\n",
       "      <td>...</td>\n",
       "      <td>...</td>\n",
       "      <td>...</td>\n",
       "      <td>...</td>\n",
       "    </tr>\n",
       "    <tr>\n",
       "      <th>TH_9_ZEPHYR-2.csv</th>\n",
       "      <th>0x000000000000000000006091</th>\n",
       "      <td>149.0</td>\n",
       "      <td>-23.335570</td>\n",
       "      <td>3.150742</td>\n",
       "      <td>-30.0</td>\n",
       "      <td>-24.0</td>\n",
       "      <td>-24.0</td>\n",
       "      <td>-20.0</td>\n",
       "      <td>-19.0</td>\n",
       "    </tr>\n",
       "  </tbody>\n",
       "</table>\n",
       "<p>17 rows × 8 columns</p>\n",
       "</div>"
      ],
      "text/plain": [
       "                                                   count       mean       std  \\\n",
       "csv                    epc                                                      \n",
       "TH_10_ALN-9762-FRA.csv 0x000000000000000000006101  157.0 -23.203822  2.807359   \n",
       "...                                                  ...        ...       ...   \n",
       "TH_9_ZEPHYR-2.csv      0x000000000000000000006091  149.0 -23.335570  3.150742   \n",
       "\n",
       "                                                    min   25%   50%   75%  \\\n",
       "csv                    epc                                                  \n",
       "TH_10_ALN-9762-FRA.csv 0x000000000000000000006101 -29.0 -24.0 -23.0 -21.0   \n",
       "...                                                 ...   ...   ...   ...   \n",
       "TH_9_ZEPHYR-2.csv      0x000000000000000000006091 -30.0 -24.0 -24.0 -20.0   \n",
       "\n",
       "                                                    max  \n",
       "csv                    epc                               \n",
       "TH_10_ALN-9762-FRA.csv 0x000000000000000000006101 -20.0  \n",
       "...                                                 ...  \n",
       "TH_9_ZEPHYR-2.csv      0x000000000000000000006091 -19.0  \n",
       "\n",
       "[17 rows x 8 columns]"
      ]
     },
     "execution_count": 7,
     "metadata": {},
     "output_type": "execute_result"
    }
   ],
   "source": [
    "# 基本統計量の算出\n",
    "# 基本統計量を算出したいEPCのみに絞り込んだ後、csvとepcでグルーピングし、RSSIの基本統計量を求めている\n",
    "# https://pandas.pydata.org/pandas-docs/stable/generated/pandas.DataFrame.groupby.html\n",
    "# https://pandas.pydata.org/pandas-docs/stable/generated/pandas.DataFrame.describe.html\n",
    "described = merged[merged.epc == merged.target_epc].groupby(['csv', 'epc']).rssi.describe()\n",
    "described"
   ]
  },
  {
   "cell_type": "code",
   "execution_count": 8,
   "metadata": {
    "collapsed": true
   },
   "outputs": [],
   "source": [
    "output_file = \".\\\\output\\\\output.csv\" # 最終結果出力先\n",
    "\n",
    "# 基本統計量のDataFrameをCSVのファイルとして出力\n",
    "# http://pandas.pydata.org/pandas-docs/version/0.20.2/generated/pandas.DataFrame.to_csv.html\n",
    "described.to_csv(path_or_buf=output_file, encoding='utf-8')"
   ]
  },
  {
   "cell_type": "code",
   "execution_count": null,
   "metadata": {
    "collapsed": true
   },
   "outputs": [],
   "source": []
  }
 ],
 "metadata": {
  "kernelspec": {
   "display_name": "Python 3",
   "language": "python",
   "name": "python3"
  },
  "language_info": {
   "codemirror_mode": {
    "name": "ipython",
    "version": 3
   },
   "file_extension": ".py",
   "mimetype": "text/x-python",
   "name": "python",
   "nbconvert_exporter": "python",
   "pygments_lexer": "ipython3",
   "version": "3.6.5"
  }
 },
 "nbformat": 4,
 "nbformat_minor": 2
}
